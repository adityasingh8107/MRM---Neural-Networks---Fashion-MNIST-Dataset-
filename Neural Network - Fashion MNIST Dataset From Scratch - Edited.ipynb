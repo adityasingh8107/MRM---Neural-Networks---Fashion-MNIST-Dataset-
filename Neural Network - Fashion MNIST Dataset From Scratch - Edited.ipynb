{
 "cells": [
  {
   "cell_type": "code",
   "execution_count": 45,
   "id": "7dd5c6a9",
   "metadata": {},
   "outputs": [],
   "source": [
    "import pandas as pd\n",
    "import numpy as np\n",
    "import matplotlib.pyplot as plt\n",
    "import seaborn as sns\n",
    "from sklearn.model_selection import train_test_split\n",
    "train = pd.read_csv(\"D:\\\\Mars Rover Manipal\\\\Project 4\\\\fashion-mnist_train.csv\")\n",
    "test = pd.read_csv(\"D:\\\\Mars Rover Manipal\\\\Project 4\\\\fashion-mnist_test.csv\")"
   ]
  },
  {
   "cell_type": "code",
   "execution_count": 46,
   "id": "0ccb8c60",
   "metadata": {},
   "outputs": [
    {
     "name": "stdout",
     "output_type": "stream",
     "text": [
      "<class 'pandas.core.frame.DataFrame'>\n",
      "RangeIndex: 60000 entries, 0 to 59999\n",
      "Columns: 785 entries, label to pixel784\n",
      "dtypes: int64(785)\n",
      "memory usage: 359.3 MB\n"
     ]
    }
   ],
   "source": [
    "train.info()"
   ]
  },
  {
   "cell_type": "code",
   "execution_count": 47,
   "id": "4a1185a1",
   "metadata": {},
   "outputs": [
    {
     "name": "stdout",
     "output_type": "stream",
     "text": [
      "<class 'pandas.core.frame.DataFrame'>\n",
      "RangeIndex: 10000 entries, 0 to 9999\n",
      "Columns: 785 entries, label to pixel784\n",
      "dtypes: int64(785)\n",
      "memory usage: 59.9 MB\n"
     ]
    }
   ],
   "source": [
    "test.info()"
   ]
  },
  {
   "cell_type": "code",
   "execution_count": 48,
   "id": "384aaf6c",
   "metadata": {},
   "outputs": [
    {
     "data": {
      "text/html": [
       "<div>\n",
       "<style scoped>\n",
       "    .dataframe tbody tr th:only-of-type {\n",
       "        vertical-align: middle;\n",
       "    }\n",
       "\n",
       "    .dataframe tbody tr th {\n",
       "        vertical-align: top;\n",
       "    }\n",
       "\n",
       "    .dataframe thead th {\n",
       "        text-align: right;\n",
       "    }\n",
       "</style>\n",
       "<table border=\"1\" class=\"dataframe\">\n",
       "  <thead>\n",
       "    <tr style=\"text-align: right;\">\n",
       "      <th>label</th>\n",
       "      <th>0</th>\n",
       "      <th>1</th>\n",
       "      <th>2</th>\n",
       "      <th>3</th>\n",
       "      <th>4</th>\n",
       "      <th>5</th>\n",
       "      <th>6</th>\n",
       "      <th>7</th>\n",
       "      <th>8</th>\n",
       "      <th>9</th>\n",
       "    </tr>\n",
       "    <tr>\n",
       "      <th>label</th>\n",
       "      <th></th>\n",
       "      <th></th>\n",
       "      <th></th>\n",
       "      <th></th>\n",
       "      <th></th>\n",
       "      <th></th>\n",
       "      <th></th>\n",
       "      <th></th>\n",
       "      <th></th>\n",
       "      <th></th>\n",
       "    </tr>\n",
       "  </thead>\n",
       "  <tbody>\n",
       "    <tr>\n",
       "      <th>0</th>\n",
       "      <td>6000</td>\n",
       "      <td>0</td>\n",
       "      <td>0</td>\n",
       "      <td>0</td>\n",
       "      <td>0</td>\n",
       "      <td>0</td>\n",
       "      <td>0</td>\n",
       "      <td>0</td>\n",
       "      <td>0</td>\n",
       "      <td>0</td>\n",
       "    </tr>\n",
       "    <tr>\n",
       "      <th>1</th>\n",
       "      <td>0</td>\n",
       "      <td>6000</td>\n",
       "      <td>0</td>\n",
       "      <td>0</td>\n",
       "      <td>0</td>\n",
       "      <td>0</td>\n",
       "      <td>0</td>\n",
       "      <td>0</td>\n",
       "      <td>0</td>\n",
       "      <td>0</td>\n",
       "    </tr>\n",
       "    <tr>\n",
       "      <th>2</th>\n",
       "      <td>0</td>\n",
       "      <td>0</td>\n",
       "      <td>6000</td>\n",
       "      <td>0</td>\n",
       "      <td>0</td>\n",
       "      <td>0</td>\n",
       "      <td>0</td>\n",
       "      <td>0</td>\n",
       "      <td>0</td>\n",
       "      <td>0</td>\n",
       "    </tr>\n",
       "    <tr>\n",
       "      <th>3</th>\n",
       "      <td>0</td>\n",
       "      <td>0</td>\n",
       "      <td>0</td>\n",
       "      <td>6000</td>\n",
       "      <td>0</td>\n",
       "      <td>0</td>\n",
       "      <td>0</td>\n",
       "      <td>0</td>\n",
       "      <td>0</td>\n",
       "      <td>0</td>\n",
       "    </tr>\n",
       "    <tr>\n",
       "      <th>4</th>\n",
       "      <td>0</td>\n",
       "      <td>0</td>\n",
       "      <td>0</td>\n",
       "      <td>0</td>\n",
       "      <td>6000</td>\n",
       "      <td>0</td>\n",
       "      <td>0</td>\n",
       "      <td>0</td>\n",
       "      <td>0</td>\n",
       "      <td>0</td>\n",
       "    </tr>\n",
       "    <tr>\n",
       "      <th>5</th>\n",
       "      <td>0</td>\n",
       "      <td>0</td>\n",
       "      <td>0</td>\n",
       "      <td>0</td>\n",
       "      <td>0</td>\n",
       "      <td>6000</td>\n",
       "      <td>0</td>\n",
       "      <td>0</td>\n",
       "      <td>0</td>\n",
       "      <td>0</td>\n",
       "    </tr>\n",
       "    <tr>\n",
       "      <th>6</th>\n",
       "      <td>0</td>\n",
       "      <td>0</td>\n",
       "      <td>0</td>\n",
       "      <td>0</td>\n",
       "      <td>0</td>\n",
       "      <td>0</td>\n",
       "      <td>6000</td>\n",
       "      <td>0</td>\n",
       "      <td>0</td>\n",
       "      <td>0</td>\n",
       "    </tr>\n",
       "    <tr>\n",
       "      <th>7</th>\n",
       "      <td>0</td>\n",
       "      <td>0</td>\n",
       "      <td>0</td>\n",
       "      <td>0</td>\n",
       "      <td>0</td>\n",
       "      <td>0</td>\n",
       "      <td>0</td>\n",
       "      <td>6000</td>\n",
       "      <td>0</td>\n",
       "      <td>0</td>\n",
       "    </tr>\n",
       "    <tr>\n",
       "      <th>8</th>\n",
       "      <td>0</td>\n",
       "      <td>0</td>\n",
       "      <td>0</td>\n",
       "      <td>0</td>\n",
       "      <td>0</td>\n",
       "      <td>0</td>\n",
       "      <td>0</td>\n",
       "      <td>0</td>\n",
       "      <td>6000</td>\n",
       "      <td>0</td>\n",
       "    </tr>\n",
       "    <tr>\n",
       "      <th>9</th>\n",
       "      <td>0</td>\n",
       "      <td>0</td>\n",
       "      <td>0</td>\n",
       "      <td>0</td>\n",
       "      <td>0</td>\n",
       "      <td>0</td>\n",
       "      <td>0</td>\n",
       "      <td>0</td>\n",
       "      <td>0</td>\n",
       "      <td>6000</td>\n",
       "    </tr>\n",
       "  </tbody>\n",
       "</table>\n",
       "</div>"
      ],
      "text/plain": [
       "label     0     1     2     3     4     5     6     7     8     9\n",
       "label                                                            \n",
       "0      6000     0     0     0     0     0     0     0     0     0\n",
       "1         0  6000     0     0     0     0     0     0     0     0\n",
       "2         0     0  6000     0     0     0     0     0     0     0\n",
       "3         0     0     0  6000     0     0     0     0     0     0\n",
       "4         0     0     0     0  6000     0     0     0     0     0\n",
       "5         0     0     0     0     0  6000     0     0     0     0\n",
       "6         0     0     0     0     0     0  6000     0     0     0\n",
       "7         0     0     0     0     0     0     0  6000     0     0\n",
       "8         0     0     0     0     0     0     0     0  6000     0\n",
       "9         0     0     0     0     0     0     0     0     0  6000"
      ]
     },
     "execution_count": 48,
     "metadata": {},
     "output_type": "execute_result"
    }
   ],
   "source": [
    "pd.crosstab(train['label'], train['label'])"
   ]
  },
  {
   "cell_type": "code",
   "execution_count": 49,
   "id": "3bb84dd9",
   "metadata": {},
   "outputs": [
    {
     "data": {
      "text/html": [
       "<div>\n",
       "<style scoped>\n",
       "    .dataframe tbody tr th:only-of-type {\n",
       "        vertical-align: middle;\n",
       "    }\n",
       "\n",
       "    .dataframe tbody tr th {\n",
       "        vertical-align: top;\n",
       "    }\n",
       "\n",
       "    .dataframe thead th {\n",
       "        text-align: right;\n",
       "    }\n",
       "</style>\n",
       "<table border=\"1\" class=\"dataframe\">\n",
       "  <thead>\n",
       "    <tr style=\"text-align: right;\">\n",
       "      <th></th>\n",
       "      <th>label</th>\n",
       "    </tr>\n",
       "  </thead>\n",
       "  <tbody>\n",
       "    <tr>\n",
       "      <th>0</th>\n",
       "      <td>0</td>\n",
       "    </tr>\n",
       "    <tr>\n",
       "      <th>1</th>\n",
       "      <td>1</td>\n",
       "    </tr>\n",
       "    <tr>\n",
       "      <th>2</th>\n",
       "      <td>2</td>\n",
       "    </tr>\n",
       "    <tr>\n",
       "      <th>3</th>\n",
       "      <td>2</td>\n",
       "    </tr>\n",
       "    <tr>\n",
       "      <th>4</th>\n",
       "      <td>3</td>\n",
       "    </tr>\n",
       "    <tr>\n",
       "      <th>...</th>\n",
       "      <td>...</td>\n",
       "    </tr>\n",
       "    <tr>\n",
       "      <th>9995</th>\n",
       "      <td>0</td>\n",
       "    </tr>\n",
       "    <tr>\n",
       "      <th>9996</th>\n",
       "      <td>6</td>\n",
       "    </tr>\n",
       "    <tr>\n",
       "      <th>9997</th>\n",
       "      <td>8</td>\n",
       "    </tr>\n",
       "    <tr>\n",
       "      <th>9998</th>\n",
       "      <td>8</td>\n",
       "    </tr>\n",
       "    <tr>\n",
       "      <th>9999</th>\n",
       "      <td>1</td>\n",
       "    </tr>\n",
       "  </tbody>\n",
       "</table>\n",
       "<p>10000 rows × 1 columns</p>\n",
       "</div>"
      ],
      "text/plain": [
       "      label\n",
       "0         0\n",
       "1         1\n",
       "2         2\n",
       "3         2\n",
       "4         3\n",
       "...     ...\n",
       "9995      0\n",
       "9996      6\n",
       "9997      8\n",
       "9998      8\n",
       "9999      1\n",
       "\n",
       "[10000 rows x 1 columns]"
      ]
     },
     "execution_count": 49,
     "metadata": {},
     "output_type": "execute_result"
    }
   ],
   "source": [
    "records=pd.DataFrame(test['label'])\n",
    "records"
   ]
  },
  {
   "cell_type": "code",
   "execution_count": 50,
   "id": "7e0c0e2c",
   "metadata": {},
   "outputs": [],
   "source": [
    "train, val = train_test_split(train, test_size=0.10, random_state=42)"
   ]
  },
  {
   "cell_type": "code",
   "execution_count": 51,
   "id": "66c71faa",
   "metadata": {},
   "outputs": [],
   "source": [
    "train=np.array(train)\n",
    "test=np.array(test)\n",
    "val=np.array(val)"
   ]
  },
  {
   "cell_type": "code",
   "execution_count": 52,
   "id": "2b2aa2c1",
   "metadata": {},
   "outputs": [
    {
     "name": "stdout",
     "output_type": "stream",
     "text": [
      "(54000, 785)\n"
     ]
    },
    {
     "data": {
      "text/plain": [
       "(784, 54000)"
      ]
     },
     "execution_count": 52,
     "metadata": {},
     "output_type": "execute_result"
    }
   ],
   "source": [
    "print(train.shape)\n",
    "m,n = train.shape\n",
    "\n",
    "data_train = train[0:m].T\n",
    "Y_train = data_train[0]\n",
    "X_train = data_train[1:n]\n",
    "X_train = X_train / 255.\n",
    "_,m_train = X_train.shape\n",
    "X_train.shape"
   ]
  },
  {
   "cell_type": "code",
   "execution_count": 53,
   "id": "dcad1879",
   "metadata": {},
   "outputs": [
    {
     "name": "stdout",
     "output_type": "stream",
     "text": [
      "(10000, 785)\n"
     ]
    },
    {
     "data": {
      "text/plain": [
       "(784, 10000)"
      ]
     },
     "execution_count": 53,
     "metadata": {},
     "output_type": "execute_result"
    }
   ],
   "source": [
    "print(test.shape)\n",
    "m,n = test.shape\n",
    "\n",
    "data_test = test[0:m].T\n",
    "Y_test = data_test[0]\n",
    "X_test = data_test[1:n]\n",
    "X_test = X_test / 255.\n",
    "_,m_test = X_test.shape\n",
    "X_test.shape"
   ]
  },
  {
   "cell_type": "code",
   "execution_count": 54,
   "id": "ec3da328",
   "metadata": {},
   "outputs": [
    {
     "name": "stdout",
     "output_type": "stream",
     "text": [
      "(6000, 785)\n"
     ]
    },
    {
     "data": {
      "text/plain": [
       "(784, 6000)"
      ]
     },
     "execution_count": 54,
     "metadata": {},
     "output_type": "execute_result"
    }
   ],
   "source": [
    "print(val.shape)\n",
    "m,n = val.shape\n",
    "\n",
    "data_val = val[0:m].T\n",
    "Y_val = data_val[0]\n",
    "X_val = data_val[1:n]\n",
    "X_val = X_val / 255.\n",
    "_,m_val = X_val.shape\n",
    "X_val.shape"
   ]
  },
  {
   "cell_type": "code",
   "execution_count": 55,
   "id": "d3fdbf4b",
   "metadata": {},
   "outputs": [],
   "source": [
    "def print_image(index):\n",
    "    current_image = X_train[:, index, None]\n",
    "    label = Y_train[index]\n",
    "    print(\"Label: \", label)\n",
    "    \n",
    "    current_image = current_image.reshape((28, 28)) * 255\n",
    "    plt.gray()\n",
    "    plt.imshow(current_image, interpolation='nearest')\n",
    "    plt.show()"
   ]
  },
  {
   "cell_type": "code",
   "execution_count": 88,
   "id": "5d22d4a2",
   "metadata": {},
   "outputs": [
    {
     "name": "stdout",
     "output_type": "stream",
     "text": [
      "Label:  0\n"
     ]
    },
    {
     "data": {
      "image/png": "[encoded data removed]",
      "text/plain": [
       "<Figure size 640x480 with 1 Axes>"
      ]
     },
     "metadata": {},
     "output_type": "display_data"
    }
   ],
   "source": [
    "print_image(12)"
   ]
  },
  {
   "cell_type": "code",
   "execution_count": 56,
   "id": "fc4205a0",
   "metadata": {},
   "outputs": [
    {
     "name": "stdout",
     "output_type": "stream",
     "text": [
      "Label:  1\n"
     ]
    },
    {
     "data": {
      "image/png": "[encoded data removed]",
      "text/plain": [
       "<Figure size 640x480 with 1 Axes>"
      ]
     },
     "metadata": {},
     "output_type": "display_data"
    }
   ],
   "source": [
    "print_image(2546)"
   ]
  },
  {
   "cell_type": "code",
   "execution_count": 57,
   "id": "44b6235a",
   "metadata": {},
   "outputs": [
    {
     "name": "stdout",
     "output_type": "stream",
     "text": [
      "Label:  2\n"
     ]
    },
    {
     "data": {
      "image/png": "[encoded data removed]",
      "text/plain": [
       "<Figure size 640x480 with 1 Axes>"
      ]
     },
     "metadata": {},
     "output_type": "display_data"
    }
   ],
   "source": [
    "print_image(502)"
   ]
  },
  {
   "cell_type": "code",
   "execution_count": 85,
   "id": "5123b92d",
   "metadata": {},
   "outputs": [
    {
     "name": "stdout",
     "output_type": "stream",
     "text": [
      "Label:  3\n"
     ]
    },
    {
     "data": {
      "image/png": "[encoded data removed]",
      "text/plain": [
       "<Figure size 640x480 with 1 Axes>"
      ]
     },
     "metadata": {},
     "output_type": "display_data"
    }
   ],
   "source": [
    "print_image(224)"
   ]
  },
  {
   "cell_type": "code",
   "execution_count": 89,
   "id": "b19c9870",
   "metadata": {},
   "outputs": [
    {
     "name": "stdout",
     "output_type": "stream",
     "text": [
      "Label:  4\n"
     ]
    },
    {
     "data": {
      "image/png": "[encoded data removed]",
      "text/plain": [
       "<Figure size 640x480 with 1 Axes>"
      ]
     },
     "metadata": {},
     "output_type": "display_data"
    }
   ],
   "source": [
    "print_image(2)"
   ]
  },
  {
   "cell_type": "code",
   "execution_count": 62,
   "id": "acaab3c8",
   "metadata": {},
   "outputs": [
    {
     "name": "stdout",
     "output_type": "stream",
     "text": [
      "Label:  5\n"
     ]
    },
    {
     "data": {
      "image/png": "[encoded data removed]",
      "text/plain": [
       "<Figure size 640x480 with 1 Axes>"
      ]
     },
     "metadata": {},
     "output_type": "display_data"
    }
   ],
   "source": [
    "print_image(23)"
   ]
  },
  {
   "cell_type": "code",
   "execution_count": 64,
   "id": "a0d0ed3f",
   "metadata": {},
   "outputs": [
    {
     "name": "stdout",
     "output_type": "stream",
     "text": [
      "Label:  6\n"
     ]
    },
    {
     "data": {
      "image/png": "[encoded data removed]",
      "text/plain": [
       "<Figure size 640x480 with 1 Axes>"
      ]
     },
     "metadata": {},
     "output_type": "display_data"
    }
   ],
   "source": [
    "print_image(1234)"
   ]
  },
  {
   "cell_type": "code",
   "execution_count": 125,
   "id": "f1aa9a9e",
   "metadata": {},
   "outputs": [
    {
     "name": "stdout",
     "output_type": "stream",
     "text": [
      "Label:  7\n"
     ]
    },
    {
     "data": {
      "image/png": "[encoded data removed]",
      "text/plain": [
       "<Figure size 640x480 with 1 Axes>"
      ]
     },
     "metadata": {},
     "output_type": "display_data"
    }
   ],
   "source": [
    "print_image(33635)"
   ]
  },
  {
   "cell_type": "code",
   "execution_count": 93,
   "id": "75f07697",
   "metadata": {},
   "outputs": [
    {
     "name": "stdout",
     "output_type": "stream",
     "text": [
      "Label:  8\n"
     ]
    },
    {
     "data": {
      "image/png": "[encoded data removed]",
      "text/plain": [
       "<Figure size 640x480 with 1 Axes>"
      ]
     },
     "metadata": {},
     "output_type": "display_data"
    }
   ],
   "source": [
    "print_image(7)"
   ]
  },
  {
   "cell_type": "code",
   "execution_count": 61,
   "id": "e3746097",
   "metadata": {},
   "outputs": [
    {
     "name": "stdout",
     "output_type": "stream",
     "text": [
      "Label:  9\n"
     ]
    },
    {
     "data": {
      "image/png": "[encoded data removed]",
      "text/plain": [
       "<Figure size 640x480 with 1 Axes>"
      ]
     },
     "metadata": {},
     "output_type": "display_data"
    }
   ],
   "source": [
    "print_image(0)"
   ]
  },
  {
   "cell_type": "code",
   "execution_count": 66,
   "id": "a9a5681c",
   "metadata": {},
   "outputs": [],
   "source": [
    "def one_hot(Y):\n",
    "    one_hot_Y = np.zeros((Y.size, Y.max() + 1))\n",
    "    one_hot_Y[np.arange(Y.size), Y] = 1\n",
    "    one_hot_Y = one_hot_Y.T\n",
    "    return one_hot_Y"
   ]
  },
  {
   "cell_type": "code",
   "execution_count": 67,
   "id": "e11da7d3",
   "metadata": {},
   "outputs": [],
   "source": [
    "def init_params():\n",
    "    W1 = np.random.rand(128, 784) - 0.5\n",
    "    b1 = np.random.rand(128, 1) - 0.5\n",
    "    W2 = np.random.rand(10, 128) - 0.5\n",
    "    b2 = np.random.rand(10, 1) - 0.5\n",
    "    return W1, b1, W2, b2"
   ]
  },
  {
   "cell_type": "code",
   "execution_count": 68,
   "id": "2c83a983",
   "metadata": {},
   "outputs": [],
   "source": [
    "def ReLU(Z):\n",
    "    return np.maximum(Z, 0)\n",
    "\n",
    "def ReLU_deriv(Z):\n",
    "    return Z > 0\n",
    "\n",
    "def softmax(Z):\n",
    "    A = np.exp(Z) / sum(np.exp(Z))\n",
    "    return A"
   ]
  },
  {
   "cell_type": "code",
   "execution_count": 69,
   "id": "fa678679",
   "metadata": {},
   "outputs": [],
   "source": [
    "def forward_prop(W1, b1, W2, b2, X):\n",
    "    Z1 = W1.dot(X) + b1\n",
    "    A1 = ReLU(Z1)\n",
    "    Z2 = W2.dot(A1) + b2\n",
    "    A2 = softmax(Z2)\n",
    "    return Z1, A1, Z2, A2\n",
    "\n",
    "def backward_prop(Z1, A1, Z2, A2, W1, W2, X, Y):\n",
    "    one_hot_Y = one_hot(Y)\n",
    "    dZ2 = A2 - one_hot_Y\n",
    "    dW2 = 1 / m * dZ2.dot(A1.T)\n",
    "    db2 = 1 / m * np.sum(dZ2)\n",
    "    dZ1 = W2.T.dot(dZ2) * ReLU_deriv(Z1)\n",
    "    dW1 = 1 / m * dZ1.dot(X.T)\n",
    "    db1 = 1 / m * np.sum(dZ1)\n",
    "    return dW1, db1, dW2, db2\n",
    "\n",
    "def update_params(W1, b1, W2, b2, dW1, db1, dW2, db2, alpha):\n",
    "    \n",
    "    W1 = W1 - alpha * dW1\n",
    "    b1 = b1 - alpha * db1  \n",
    "    W2 = W2 - alpha * dW2\n",
    "    b2 = b2 - alpha * db2 \n",
    "    \n",
    "    return W1, b1, W2, b2\n",
    "\n",
    "def computeloss(Y,A2):\n",
    "    m=10\n",
    "    y=one_hot(Y)\n",
    "    loss=(1/m)*(-np.sum(y*np.log(A2+10**-8)))\n",
    "    return loss"
   ]
  },
  {
   "cell_type": "code",
   "execution_count": 70,
   "id": "678bedf7",
   "metadata": {},
   "outputs": [],
   "source": [
    "def get_predictions(A2):\n",
    "    return np.argmax(A2, 0)\n",
    "\n",
    "def get_accuracy(predictions, Y):\n",
    "    return np.sum(predictions == Y) / Y.size\n",
    "\n",
    "def make_predictions(X, W1, b1, W2, b2):\n",
    "    _, _, _, A2 = forward_prop(W1, b1, W2, b2, X)\n",
    "    predictions = get_predictions(A2)\n",
    "    return predictions\n",
    "\n",
    "def gradient_descent(X, Y, alpha, epochs):\n",
    "    losses=[]\n",
    "    W1, b1, W2, b2 = init_params()\n",
    "    for i in range(epochs):\n",
    "        Z1, A1, Z2, A2 = forward_prop(W1, b1, W2, b2, X)\n",
    "        dW1, db1, dW2, db2 = backward_prop(Z1, A1, Z2, A2, W1, W2, X, Y)\n",
    "        losses.append(computeloss(Y,A2))\n",
    "        W1, b1, W2, b2 = update_params(W1, b1, W2, b2, dW1, db1, dW2, db2, alpha)\n",
    "        \n",
    "        if i % 20 == 0:\n",
    "            print(\"Iteration: \", i)\n",
    "            predictions = get_predictions(A2)\n",
    "            print(\"Train Accuracy\",get_accuracy(predictions, Y))\n",
    "            val_predictions = make_predictions(X_val, W1, b1, W2, b2)\n",
    "            print(\"Val Accuracy\", get_accuracy(val_predictions, Y_val))\n",
    "            print(\"_________________________\")\n",
    "    return W1, b1, W2, b2, losses"
   ]
  },
  {
   "cell_type": "code",
   "execution_count": 71,
   "id": "de722585",
   "metadata": {},
   "outputs": [
    {
     "name": "stdout",
     "output_type": "stream",
     "text": [
      "Iteration:  0\n",
      "Train Accuracy 0.09014814814814814\n",
      "Val Accuracy 0.15666666666666668\n",
      "_________________________\n",
      "Iteration:  20\n",
      "Train Accuracy 0.6110925925925926\n",
      "Val Accuracy 0.6316666666666667\n",
      "_________________________\n",
      "Iteration:  40\n",
      "Train Accuracy 0.6761296296296296\n",
      "Val Accuracy 0.6906666666666667\n",
      "_________________________\n",
      "Iteration:  60\n",
      "Train Accuracy 0.7066666666666667\n",
      "Val Accuracy 0.714\n",
      "_________________________\n",
      "Iteration:  80\n",
      "Train Accuracy 0.7217407407407408\n",
      "Val Accuracy 0.7308333333333333\n",
      "_________________________\n",
      "Iteration:  100\n",
      "Train Accuracy 0.7321851851851852\n",
      "Val Accuracy 0.7415\n",
      "_________________________\n",
      "Iteration:  120\n",
      "Train Accuracy 0.7447777777777778\n",
      "Val Accuracy 0.7486666666666667\n",
      "_________________________\n",
      "Iteration:  140\n",
      "Train Accuracy 0.7525185185185185\n",
      "Val Accuracy 0.758\n",
      "_________________________\n",
      "Iteration:  160\n",
      "Train Accuracy 0.7592592592592593\n",
      "Val Accuracy 0.762\n",
      "_________________________\n",
      "Iteration:  180\n",
      "Train Accuracy 0.7645185185185185\n",
      "Val Accuracy 0.7665\n",
      "_________________________\n",
      "Iteration:  200\n",
      "Train Accuracy 0.7695555555555555\n",
      "Val Accuracy 0.7718333333333334\n",
      "_________________________\n",
      "Iteration:  220\n",
      "Train Accuracy 0.7741851851851852\n",
      "Val Accuracy 0.7771666666666667\n",
      "_________________________\n",
      "Iteration:  240\n",
      "Train Accuracy 0.7777407407407407\n",
      "Val Accuracy 0.779\n",
      "_________________________\n",
      "Iteration:  260\n",
      "Train Accuracy 0.7801481481481481\n",
      "Val Accuracy 0.7766666666666666\n",
      "_________________________\n",
      "Iteration:  280\n",
      "Train Accuracy 0.7865555555555556\n",
      "Val Accuracy 0.7811666666666667\n",
      "_________________________\n",
      "Iteration:  300\n",
      "Train Accuracy 0.7898333333333334\n",
      "Val Accuracy 0.7841666666666667\n",
      "_________________________\n"
     ]
    }
   ],
   "source": [
    "epoch = 301\n",
    "W1, b1, W2, b2, loss = gradient_descent(X_train, Y_train, 0.01, epoch)"
   ]
  },
  {
   "cell_type": "code",
   "execution_count": 130,
   "id": "b04f9137",
   "metadata": {},
   "outputs": [
    {
     "data": {
      "image/png": "[encoded data removed]",
      "text/plain": [
       "<Figure size 640x480 with 1 Axes>"
      ]
     },
     "metadata": {},
     "output_type": "display_data"
    }
   ],
   "source": [
    "plt.plot(loss, label='Training Loss')\n",
    "plt.title('Loss vs Epoch')\n",
    "plt.xlabel('Epoch')\n",
    "plt.ylabel('Loss')\n",
    "plt.legend()\n",
    "plt.show()"
   ]
  },
  {
   "cell_type": "code",
   "execution_count": 73,
   "id": "93191aad",
   "metadata": {},
   "outputs": [
    {
     "name": "stdout",
     "output_type": "stream",
     "text": [
      "Test Accuracy 0.7826\n"
     ]
    }
   ],
   "source": [
    "test_predictions = make_predictions(X_test, W1, b1, W2, b2)\n",
    "print(\"Test Accuracy\",get_accuracy(test_predictions, Y_test))"
   ]
  },
  {
   "cell_type": "code",
   "execution_count": 74,
   "id": "90dff3a3",
   "metadata": {},
   "outputs": [
    {
     "data": {
      "text/html": [
       "<div>\n",
       "<style scoped>\n",
       "    .dataframe tbody tr th:only-of-type {\n",
       "        vertical-align: middle;\n",
       "    }\n",
       "\n",
       "    .dataframe tbody tr th {\n",
       "        vertical-align: top;\n",
       "    }\n",
       "\n",
       "    .dataframe thead th {\n",
       "        text-align: right;\n",
       "    }\n",
       "</style>\n",
       "<table border=\"1\" class=\"dataframe\">\n",
       "  <thead>\n",
       "    <tr style=\"text-align: right;\">\n",
       "      <th></th>\n",
       "      <th>label</th>\n",
       "      <th>predicted labels</th>\n",
       "    </tr>\n",
       "  </thead>\n",
       "  <tbody>\n",
       "    <tr>\n",
       "      <th>0</th>\n",
       "      <td>0</td>\n",
       "      <td>0</td>\n",
       "    </tr>\n",
       "    <tr>\n",
       "      <th>1</th>\n",
       "      <td>1</td>\n",
       "      <td>1</td>\n",
       "    </tr>\n",
       "    <tr>\n",
       "      <th>2</th>\n",
       "      <td>2</td>\n",
       "      <td>2</td>\n",
       "    </tr>\n",
       "    <tr>\n",
       "      <th>3</th>\n",
       "      <td>2</td>\n",
       "      <td>2</td>\n",
       "    </tr>\n",
       "    <tr>\n",
       "      <th>4</th>\n",
       "      <td>3</td>\n",
       "      <td>4</td>\n",
       "    </tr>\n",
       "    <tr>\n",
       "      <th>...</th>\n",
       "      <td>...</td>\n",
       "      <td>...</td>\n",
       "    </tr>\n",
       "    <tr>\n",
       "      <th>9995</th>\n",
       "      <td>0</td>\n",
       "      <td>0</td>\n",
       "    </tr>\n",
       "    <tr>\n",
       "      <th>9996</th>\n",
       "      <td>6</td>\n",
       "      <td>6</td>\n",
       "    </tr>\n",
       "    <tr>\n",
       "      <th>9997</th>\n",
       "      <td>8</td>\n",
       "      <td>8</td>\n",
       "    </tr>\n",
       "    <tr>\n",
       "      <th>9998</th>\n",
       "      <td>8</td>\n",
       "      <td>8</td>\n",
       "    </tr>\n",
       "    <tr>\n",
       "      <th>9999</th>\n",
       "      <td>1</td>\n",
       "      <td>2</td>\n",
       "    </tr>\n",
       "  </tbody>\n",
       "</table>\n",
       "<p>10000 rows × 2 columns</p>\n",
       "</div>"
      ],
      "text/plain": [
       "      label  predicted labels\n",
       "0         0                 0\n",
       "1         1                 1\n",
       "2         2                 2\n",
       "3         2                 2\n",
       "4         3                 4\n",
       "...     ...               ...\n",
       "9995      0                 0\n",
       "9996      6                 6\n",
       "9997      8                 8\n",
       "9998      8                 8\n",
       "9999      1                 2\n",
       "\n",
       "[10000 rows x 2 columns]"
      ]
     },
     "execution_count": 74,
     "metadata": {},
     "output_type": "execute_result"
    }
   ],
   "source": [
    "records['predicted labels']=test_predictions\n",
    "records"
   ]
  },
  {
   "cell_type": "code",
   "execution_count": 75,
   "id": "9a40cfe7",
   "metadata": {},
   "outputs": [
    {
     "data": {
      "text/html": [
       "<div>\n",
       "<style scoped>\n",
       "    .dataframe tbody tr th:only-of-type {\n",
       "        vertical-align: middle;\n",
       "    }\n",
       "\n",
       "    .dataframe tbody tr th {\n",
       "        vertical-align: top;\n",
       "    }\n",
       "\n",
       "    .dataframe thead th {\n",
       "        text-align: right;\n",
       "    }\n",
       "</style>\n",
       "<table border=\"1\" class=\"dataframe\">\n",
       "  <thead>\n",
       "    <tr style=\"text-align: right;\">\n",
       "      <th>predicted labels</th>\n",
       "      <th>0</th>\n",
       "      <th>1</th>\n",
       "      <th>2</th>\n",
       "      <th>3</th>\n",
       "      <th>4</th>\n",
       "      <th>5</th>\n",
       "      <th>6</th>\n",
       "      <th>7</th>\n",
       "      <th>8</th>\n",
       "      <th>9</th>\n",
       "    </tr>\n",
       "    <tr>\n",
       "      <th>label</th>\n",
       "      <th></th>\n",
       "      <th></th>\n",
       "      <th></th>\n",
       "      <th></th>\n",
       "      <th></th>\n",
       "      <th></th>\n",
       "      <th></th>\n",
       "      <th></th>\n",
       "      <th></th>\n",
       "      <th></th>\n",
       "    </tr>\n",
       "  </thead>\n",
       "  <tbody>\n",
       "    <tr>\n",
       "      <th>0</th>\n",
       "      <td>700</td>\n",
       "      <td>13</td>\n",
       "      <td>14</td>\n",
       "      <td>66</td>\n",
       "      <td>11</td>\n",
       "      <td>4</td>\n",
       "      <td>179</td>\n",
       "      <td>1</td>\n",
       "      <td>12</td>\n",
       "      <td>0</td>\n",
       "    </tr>\n",
       "    <tr>\n",
       "      <th>1</th>\n",
       "      <td>13</td>\n",
       "      <td>940</td>\n",
       "      <td>10</td>\n",
       "      <td>21</td>\n",
       "      <td>7</td>\n",
       "      <td>1</td>\n",
       "      <td>7</td>\n",
       "      <td>0</td>\n",
       "      <td>1</td>\n",
       "      <td>0</td>\n",
       "    </tr>\n",
       "    <tr>\n",
       "      <th>2</th>\n",
       "      <td>15</td>\n",
       "      <td>3</td>\n",
       "      <td>516</td>\n",
       "      <td>12</td>\n",
       "      <td>188</td>\n",
       "      <td>0</td>\n",
       "      <td>249</td>\n",
       "      <td>1</td>\n",
       "      <td>16</td>\n",
       "      <td>0</td>\n",
       "    </tr>\n",
       "    <tr>\n",
       "      <th>3</th>\n",
       "      <td>39</td>\n",
       "      <td>33</td>\n",
       "      <td>6</td>\n",
       "      <td>815</td>\n",
       "      <td>45</td>\n",
       "      <td>2</td>\n",
       "      <td>51</td>\n",
       "      <td>0</td>\n",
       "      <td>9</td>\n",
       "      <td>0</td>\n",
       "    </tr>\n",
       "    <tr>\n",
       "      <th>4</th>\n",
       "      <td>3</td>\n",
       "      <td>4</td>\n",
       "      <td>34</td>\n",
       "      <td>43</td>\n",
       "      <td>757</td>\n",
       "      <td>0</td>\n",
       "      <td>153</td>\n",
       "      <td>0</td>\n",
       "      <td>6</td>\n",
       "      <td>0</td>\n",
       "    </tr>\n",
       "    <tr>\n",
       "      <th>5</th>\n",
       "      <td>6</td>\n",
       "      <td>2</td>\n",
       "      <td>2</td>\n",
       "      <td>1</td>\n",
       "      <td>0</td>\n",
       "      <td>841</td>\n",
       "      <td>4</td>\n",
       "      <td>74</td>\n",
       "      <td>24</td>\n",
       "      <td>46</td>\n",
       "    </tr>\n",
       "    <tr>\n",
       "      <th>6</th>\n",
       "      <td>143</td>\n",
       "      <td>5</td>\n",
       "      <td>61</td>\n",
       "      <td>45</td>\n",
       "      <td>118</td>\n",
       "      <td>3</td>\n",
       "      <td>596</td>\n",
       "      <td>0</td>\n",
       "      <td>29</td>\n",
       "      <td>0</td>\n",
       "    </tr>\n",
       "    <tr>\n",
       "      <th>7</th>\n",
       "      <td>0</td>\n",
       "      <td>0</td>\n",
       "      <td>0</td>\n",
       "      <td>0</td>\n",
       "      <td>0</td>\n",
       "      <td>63</td>\n",
       "      <td>0</td>\n",
       "      <td>838</td>\n",
       "      <td>2</td>\n",
       "      <td>97</td>\n",
       "    </tr>\n",
       "    <tr>\n",
       "      <th>8</th>\n",
       "      <td>0</td>\n",
       "      <td>1</td>\n",
       "      <td>12</td>\n",
       "      <td>14</td>\n",
       "      <td>8</td>\n",
       "      <td>15</td>\n",
       "      <td>19</td>\n",
       "      <td>14</td>\n",
       "      <td>911</td>\n",
       "      <td>6</td>\n",
       "    </tr>\n",
       "    <tr>\n",
       "      <th>9</th>\n",
       "      <td>0</td>\n",
       "      <td>0</td>\n",
       "      <td>2</td>\n",
       "      <td>0</td>\n",
       "      <td>0</td>\n",
       "      <td>24</td>\n",
       "      <td>1</td>\n",
       "      <td>57</td>\n",
       "      <td>4</td>\n",
       "      <td>912</td>\n",
       "    </tr>\n",
       "  </tbody>\n",
       "</table>\n",
       "</div>"
      ],
      "text/plain": [
       "predicted labels    0    1    2    3    4    5    6    7    8    9\n",
       "label                                                             \n",
       "0                 700   13   14   66   11    4  179    1   12    0\n",
       "1                  13  940   10   21    7    1    7    0    1    0\n",
       "2                  15    3  516   12  188    0  249    1   16    0\n",
       "3                  39   33    6  815   45    2   51    0    9    0\n",
       "4                   3    4   34   43  757    0  153    0    6    0\n",
       "5                   6    2    2    1    0  841    4   74   24   46\n",
       "6                 143    5   61   45  118    3  596    0   29    0\n",
       "7                   0    0    0    0    0   63    0  838    2   97\n",
       "8                   0    1   12   14    8   15   19   14  911    6\n",
       "9                   0    0    2    0    0   24    1   57    4  912"
      ]
     },
     "execution_count": 75,
     "metadata": {},
     "output_type": "execute_result"
    }
   ],
   "source": [
    "cm=pd.crosstab(records['label'],records['predicted labels'])\n",
    "cm"
   ]
  },
  {
   "cell_type": "code",
   "execution_count": 81,
   "id": "06347edb",
   "metadata": {},
   "outputs": [],
   "source": [
    "labels=np.array(records['label'])\n",
    "predicted_labels=np.array(records['predicted labels'])"
   ]
  },
  {
   "cell_type": "code",
   "execution_count": 82,
   "id": "6a5c695a",
   "metadata": {},
   "outputs": [
    {
     "name": "stdout",
     "output_type": "stream",
     "text": [
      "[[700.  13.  14.  66.  11.   4. 179.   1.  12.   0.]\n",
      " [ 13. 940.  10.  21.   7.   1.   7.   0.   1.   0.]\n",
      " [ 15.   3. 516.  12. 188.   0. 249.   1.  16.   0.]\n",
      " [ 39.  33.   6. 815.  45.   2.  51.   0.   9.   0.]\n",
      " [  3.   4.  34.  43. 757.   0. 153.   0.   6.   0.]\n",
      " [  6.   2.   2.   1.   0. 841.   4.  74.  24.  46.]\n",
      " [143.   5.  61.  45. 118.   3. 596.   0.  29.   0.]\n",
      " [  0.   0.   0.   0.   0.  63.   0. 838.   2.  97.]\n",
      " [  0.   1.  12.  14.   8.  15.  19.  14. 911.   6.]\n",
      " [  0.   0.   2.   0.   0.  24.   1.  57.   4. 912.]]\n"
     ]
    }
   ],
   "source": [
    "def confusion_mat(labels, predicted_labels, num_classes):\n",
    "    confusion_matrix = np.zeros((num_classes, num_classes))\n",
    "\n",
    "    for label, predicted_label in zip(labels, predicted_labels):\n",
    "        confusion_matrix[label, predicted_label] += 1\n",
    "\n",
    "    return confusion_matrix\n",
    "\n",
    "con_mat = confusion_mat(labels, predicted_labels,10)\n",
    "print(con_mat)"
   ]
  },
  {
   "cell_type": "code",
   "execution_count": 78,
   "id": "49688ed5",
   "metadata": {},
   "outputs": [
    {
     "data": {
      "image/png": "[encoded data removed]",
      "text/plain": [
       "<Figure size 2000x1000 with 2 Axes>"
      ]
     },
     "metadata": {},
     "output_type": "display_data"
    }
   ],
   "source": [
    "plt.figure(figsize = (20,10))\n",
    "sns.heatmap(cm,annot = True,fmt='d')\n",
    "plt.show()"
   ]
  },
  {
   "cell_type": "code",
   "execution_count": 128,
   "id": "78af7a04",
   "metadata": {},
   "outputs": [
    {
     "name": "stdout",
     "output_type": "stream",
     "text": [
      "\n",
      "Macro-average F1-Score: 0.7832399193626072\n"
     ]
    }
   ],
   "source": [
    "def calculate_metrics(confusion_matrix):\n",
    "    precision = np.zeros(confusion_matrix.shape[0])\n",
    "    recall = np.zeros(confusion_matrix.shape[0])\n",
    "    f1_score = np.zeros(confusion_matrix.shape[0])\n",
    "\n",
    "    for i in range(confusion_matrix.shape[0]):\n",
    "        true_positive = confusion_matrix[i, i]\n",
    "        false_positive = np.sum(confusion_matrix[:, i]) - true_positive\n",
    "        false_negative = np.sum(confusion_matrix[i, :]) - true_positive\n",
    "\n",
    "        precision[i] = true_positive / (true_positive + false_positive)\n",
    "        recall[i] = true_positive / (true_positive + false_negative)\n",
    "\n",
    "        f1_score[i] = 2 * (precision[i] * recall[i]) / (precision[i] + recall[i])\n",
    "\n",
    "    return precision, recall, f1_score\n",
    "\n",
    "precision, recall, f1_score = calculate_metrics(con_mat)\n",
    "macro_avg_f1_score = np.mean(f1_score)\n",
    "print(f\"\\nMacro-average F1-Score: {macro_avg_f1_score}\")"
   ]
  },
  {
   "cell_type": "code",
   "execution_count": null,
   "id": "0a6db2d5",
   "metadata": {},
   "outputs": [],
   "source": []
  }
 ],
 "metadata": {
  "kernelspec": {
   "display_name": "Python 3 (ipykernel)",
   "language": "python",
   "name": "python3"
  },
  "language_info": {
   "codemirror_mode": {
    "name": "ipython",
    "version": 3
   },
   "file_extension": ".py",
   "mimetype": "text/x-python",
   "name": "python",
   "nbconvert_exporter": "python",
   "pygments_lexer": "ipython3",
   "version": "3.11.5"
  }
 },
 "nbformat": 4,
 "nbformat_minor": 5
}
