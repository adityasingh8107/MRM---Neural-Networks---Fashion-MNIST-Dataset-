{
 "cells": [
  {
   "cell_type": "code",
   "execution_count": 145,
   "id": "6a66c235",
   "metadata": {},
   "outputs": [],
   "source": [
    "import pandas as pd\n",
    "import numpy as np\n",
    "import matplotlib.pyplot as plt\n",
    "import seaborn as sns\n",
    "from sklearn.model_selection import train_test_split\n",
    "train = pd.read_csv(\"D:\\\\Mars Rover Manipal\\\\Project 4\\\\fashion-mnist_train.csv\")\n",
    "test = pd.read_csv(\"D:\\\\Mars Rover Manipal\\\\Project 4\\\\fashion-mnist_test.csv\")"
   ]
  },
  {
   "cell_type": "code",
   "execution_count": 146,
   "id": "aa18fb98",
   "metadata": {},
   "outputs": [
    {
     "name": "stdout",
     "output_type": "stream",
     "text": [
      "occurance of  0 = 6000\n",
      "occurance of  1 = 6000\n",
      "occurance of  2 = 6000\n",
      "occurance of  3 = 6000\n",
      "occurance of  4 = 6000\n",
      "occurance of  5 = 6000\n",
      "occurance of  6 = 6000\n",
      "occurance of  7 = 6000\n",
      "occurance of  8 = 6000\n",
      "occurance of  9 = 6000\n"
     ]
    }
   ],
   "source": [
    "y_value=np.zeros((1,10))\n",
    "for i in range (10):\n",
    "    print(\"occurance of \",i,\"=\",np.count_nonzero(train['label']==i))\n",
    "    y_value[0,i-1]= np.count_nonzero(train['label']==i)"
   ]
  },
  {
   "cell_type": "code",
   "execution_count": 158,
   "id": "3ff626f3",
   "metadata": {},
   "outputs": [
    {
     "data": {
      "text/plain": [
       "<BarContainer object of 10 artists>"
      ]
     },
     "execution_count": 158,
     "metadata": {},
     "output_type": "execute_result"
    },
    {
     "data": {
      "image/png": "[encoded data removed]",
      "text/plain": [
       "<Figure size 640x480 with 1 Axes>"
      ]
     },
     "metadata": {},
     "output_type": "display_data"
    }
   ],
   "source": [
    "y_value=y_value.ravel()\n",
    "x_value=[0,1,2,3,4,5,6,7,8,9]\n",
    "plt.xlabel('label')\n",
    "plt.ylabel('count')\n",
    "plt.bar(x_value,y_value,0.7,color='g')"
   ]
  },
  {
   "cell_type": "code",
   "execution_count": 147,
   "id": "409fcac2",
   "metadata": {},
   "outputs": [
    {
     "name": "stdout",
     "output_type": "stream",
     "text": [
      "<class 'pandas.core.frame.DataFrame'>\n",
      "RangeIndex: 60000 entries, 0 to 59999\n",
      "Columns: 785 entries, label to pixel784\n",
      "dtypes: int64(785)\n",
      "memory usage: 359.3 MB\n"
     ]
    }
   ],
   "source": [
    "train.info()"
   ]
  },
  {
   "cell_type": "code",
   "execution_count": 148,
   "id": "1c854a93",
   "metadata": {},
   "outputs": [
    {
     "name": "stdout",
     "output_type": "stream",
     "text": [
      "<class 'pandas.core.frame.DataFrame'>\n",
      "RangeIndex: 10000 entries, 0 to 9999\n",
      "Columns: 785 entries, label to pixel784\n",
      "dtypes: int64(785)\n",
      "memory usage: 59.9 MB\n"
     ]
    }
   ],
   "source": [
    "test.info()"
   ]
  },
  {
   "cell_type": "code",
   "execution_count": 149,
   "id": "7a654e87",
   "metadata": {},
   "outputs": [],
   "source": [
    "train=np.array(train)\n",
    "test=np.array(test)"
   ]
  },
  {
   "cell_type": "code",
   "execution_count": 150,
   "id": "31ef2c1d",
   "metadata": {},
   "outputs": [
    {
     "name": "stdout",
     "output_type": "stream",
     "text": [
      "(60000, 785)\n"
     ]
    },
    {
     "data": {
      "text/plain": [
       "(784, 60000)"
      ]
     },
     "execution_count": 150,
     "metadata": {},
     "output_type": "execute_result"
    }
   ],
   "source": [
    "print(train.shape)\n",
    "m,n = train.shape\n",
    "\n",
    "data_train = train[0:m].T\n",
    "Y_train = data_train[0]\n",
    "X_train = data_train[1:n]\n",
    "X_train = X_train / 255.\n",
    "_,m_train = X_train.shape\n",
    "X_train.shape"
   ]
  },
  {
   "cell_type": "code",
   "execution_count": 151,
   "id": "e039de56",
   "metadata": {},
   "outputs": [
    {
     "name": "stdout",
     "output_type": "stream",
     "text": [
      "(10000, 785)\n",
      "(784, 5000)\n"
     ]
    },
    {
     "data": {
      "text/plain": [
       "(784, 5000)"
      ]
     },
     "execution_count": 151,
     "metadata": {},
     "output_type": "execute_result"
    }
   ],
   "source": [
    "print(test.shape)\n",
    "m,n = test.shape\n",
    "np.random.shuffle(test)\n",
    "\n",
    "data_dev = test[0:5000].T\n",
    "Y_val = data_dev[0]\n",
    "X_val = data_dev[1:n]\n",
    "X_val = X_val / 255.\n",
    "print(X_val.shape)\n",
    "\n",
    "data_test = test[5000:m].T\n",
    "Y_test = data_test[0]\n",
    "X_test = data_test[1:n]\n",
    "X_test = X_test / 255.\n",
    "_,m_test = X_test.shape\n",
    "X_test.shape"
   ]
  },
  {
   "cell_type": "code",
   "execution_count": 152,
   "id": "4f09b628",
   "metadata": {},
   "outputs": [
    {
     "data": {
      "text/plain": [
       "array([9, 6, 0, ..., 7, 5, 5], dtype=int64)"
      ]
     },
     "execution_count": 152,
     "metadata": {},
     "output_type": "execute_result"
    }
   ],
   "source": [
    "Y_test"
   ]
  },
  {
   "cell_type": "code",
   "execution_count": 153,
   "id": "9086bd8d",
   "metadata": {},
   "outputs": [],
   "source": [
    "def one_hot(Y):\n",
    "    one_hot_Y = np.zeros((Y.size, Y.max() + 1))\n",
    "    one_hot_Y[np.arange(Y.size), Y] = 1\n",
    "    one_hot_Y = one_hot_Y.T\n",
    "    return one_hot_Y"
   ]
  },
  {
   "cell_type": "code",
   "execution_count": 154,
   "id": "52e94e48",
   "metadata": {},
   "outputs": [],
   "source": [
    "def init_params():\n",
    "    W1 = np.random.rand(128, 784) - 0.5\n",
    "    b1 = np.random.rand(128, 1) - 0.5\n",
    "    W2 = np.random.rand(10, 128) - 0.5\n",
    "    b2 = np.random.rand(10, 1) - 0.5\n",
    "    return W1, b1, W2, b2"
   ]
  },
  {
   "cell_type": "code",
   "execution_count": 155,
   "id": "0defbebd",
   "metadata": {},
   "outputs": [],
   "source": [
    "def ReLU(Z):\n",
    "    return np.maximum(Z, 0)\n",
    "\n",
    "def sigmoid(Z):\n",
    "    return 1/((1+np.exp(-Z))*(1+np.exp(-Z)))\n",
    "              \n",
    "def sigmoid_deriv(Z):\n",
    "    return -np.exp(-Z)/((1+np.exp(-Z))*(1+np.exp(-Z)))\n",
    "\n",
    "def ReLU_deriv(Z):\n",
    "    return Z > 0\n",
    "\n",
    "def softmax(Z):\n",
    "    A = np.exp(Z) / sum(np.exp(Z))\n",
    "    return A"
   ]
  },
  {
   "cell_type": "code",
   "execution_count": 156,
   "id": "205e7feb",
   "metadata": {},
   "outputs": [],
   "source": [
    "def forward_prop(W1, b1, W2, b2, X):\n",
    "    Z1 = W1.dot(X) + b1\n",
    "    A1 = ReLU(Z1)\n",
    "    Z2 = W2.dot(A1) + b2\n",
    "    A2 = softmax(Z2)\n",
    "    return Z1, A1, Z2, A2\n",
    "\n",
    "def backward_prop(Z1, A1, Z2, A2, W1, W2, X, Y):\n",
    "    one_hot_Y = one_hot(Y)\n",
    "    dZ2 = A2 - one_hot_Y\n",
    "    dW2 = 1 / m * dZ2.dot(A1.T)\n",
    "    db2 = 1 / m * np.sum(dZ2)\n",
    "    dZ1 = W2.T.dot(dZ2) * ReLU_deriv(Z1)\n",
    "    dW1 = 1 / m * dZ1.dot(X.T)\n",
    "    db1 = 1 / m * np.sum(dZ1)\n",
    "    return dW1, db1, dW2, db2\n",
    "\n",
    "def update_params(W1, b1, W2, b2, dW1, db1, dW2, db2, alpha):\n",
    "\n",
    "    vdW1=np.zeros((128,784))\n",
    "    vdW2=np.zeros((10, 128))\n",
    "    vdb1=np.zeros((128, 1))\n",
    "    vdb2=np.zeros((10, 1))\n",
    "    \n",
    "    sdW1=np.zeros((128,784))\n",
    "    sdW2=np.zeros((10, 128))\n",
    "    sdb1=np.zeros((128, 1))\n",
    "    sdb2=np.zeros((10, 1))\n",
    "    \n",
    "    beta1=0.9\n",
    "    beta2=0.999\n",
    "    epsilon=10**-8\n",
    "    \n",
    "    vdW1 = (beta1*vdW1+(1-beta1)*dW1)/(1-beta1)\n",
    "    vdW2 = (beta1*vdW2+(1-beta1)*dW2)/(1-beta1)\n",
    "    vdb1 = (beta1*vdb1+(1-beta1)*db1)/(1-beta1)    \n",
    "    vdb2 = (beta1*vdb2+(1-beta1)*db2)/(1-beta1)\n",
    "    \n",
    "    sdW1 = (beta2*sdW1+(1-beta2)*dW1*dW1)/(1-beta2)\n",
    "    sdW2 = (beta2*sdW2+(1-beta2)*dW2*dW2)/(1-beta2)\n",
    "    sdb1 = (beta2*sdb1+(1-beta2)*db1*db1)/(1-beta2)    \n",
    "    sdb2 = (beta2*sdb2+(1-beta2)*db2*db2)/(1-beta2)\n",
    "\n",
    "    W1 = W1 - (alpha * vdW1)/(np.sqrt(sdW1)+epsilon)\n",
    "    b1 = b1 - (alpha * vdb1)/(np.sqrt(sdb1)+epsilon)   \n",
    "    W2 = W2 - (alpha * vdW2)/(np.sqrt(sdW2)+epsilon)  \n",
    "    b2 = b2 - (alpha * vdb2)/(np.sqrt(sdb2)+epsilon)    \n",
    "    return W1, b1, W2, b2"
   ]
  },
  {
   "cell_type": "code",
   "execution_count": 157,
   "id": "bb49d07c",
   "metadata": {},
   "outputs": [],
   "source": [
    "def get_predictions(A2):\n",
    "    return np.argmax(A2, 0)\n",
    "\n",
    "def get_accuracy(predictions, Y):\n",
    "    print(predictions, Y)\n",
    "    return np.sum(predictions == Y) / Y.size\n",
    "\n",
    "def gradient_descent(X, Y, alpha, iterations):\n",
    "    W1, b1, W2, b2 = init_params()\n",
    "    for i in range(iterations):\n",
    "        Z1, A1, Z2, A2 = forward_prop(W1, b1, W2, b2, X)\n",
    "        dW1, db1, dW2, db2 = backward_prop(Z1, A1, Z2, A2, W1, W2, X, Y)\n",
    "        W1, b1, W2, b2 = update_params(W1, b1, W2, b2, dW1, db1, dW2, db2, alpha)\n",
    "        if i % 10 == 0:\n",
    "            print(\"Iteration: \", i)\n",
    "            predictions = get_predictions(A2)\n",
    "            print(get_accuracy(predictions, Y))\n",
    "    return W1, b1, W2, b2"
   ]
  },
  {
   "cell_type": "code",
   "execution_count": 142,
   "id": "79b62a53",
   "metadata": {},
   "outputs": [
    {
     "name": "stdout",
     "output_type": "stream",
     "text": [
      "Iteration:  0\n",
      "[8 8 8 ... 8 8 8] [2 9 6 ... 8 8 7]\n",
      "0.10128333333333334\n",
      "Iteration:  10\n",
      "[0 9 6 ... 0 8 7] [2 9 6 ... 8 8 7]\n",
      "0.49443333333333334\n",
      "Iteration:  20\n",
      "[4 9 4 ... 4 8 7] [2 9 6 ... 8 8 7]\n",
      "0.5527166666666666\n",
      "Iteration:  30\n",
      "[4 7 4 ... 4 8 7] [2 9 6 ... 8 8 7]\n",
      "0.6007\n",
      "Iteration:  40\n",
      "[4 7 4 ... 8 8 7] [2 9 6 ... 8 8 7]\n",
      "0.6279333333333333\n",
      "Iteration:  50\n",
      "[4 7 4 ... 8 8 7] [2 9 6 ... 8 8 7]\n",
      "0.64585\n",
      "Iteration:  60\n",
      "[4 7 4 ... 8 8 7] [2 9 6 ... 8 8 7]\n",
      "0.6631166666666667\n",
      "Iteration:  70\n",
      "[4 7 4 ... 8 8 7] [2 9 6 ... 8 8 7]\n",
      "0.6741166666666667\n",
      "Iteration:  80\n",
      "[4 7 4 ... 8 8 7] [2 9 6 ... 8 8 7]\n",
      "0.6859\n",
      "Iteration:  90\n",
      "[4 7 4 ... 8 8 7] [2 9 6 ... 8 8 7]\n",
      "0.6959\n",
      "Iteration:  100\n",
      "[4 7 4 ... 8 8 7] [2 9 6 ... 8 8 7]\n",
      "0.6944333333333333\n",
      "Iteration:  110\n",
      "[4 7 4 ... 8 8 7] [2 9 6 ... 8 8 7]\n",
      "0.7059166666666666\n",
      "Iteration:  120\n",
      "[4 7 4 ... 8 8 7] [2 9 6 ... 8 8 7]\n",
      "0.7133166666666667\n",
      "Iteration:  130\n",
      "[4 7 4 ... 8 8 7] [2 9 6 ... 8 8 7]\n",
      "0.7158666666666667\n",
      "Iteration:  140\n",
      "[4 7 4 ... 8 8 7] [2 9 6 ... 8 8 7]\n",
      "0.7361166666666666\n",
      "Iteration:  150\n",
      "[4 7 4 ... 8 8 7] [2 9 6 ... 8 8 7]\n",
      "0.7396166666666667\n",
      "Iteration:  160\n",
      "[4 7 4 ... 8 8 7] [2 9 6 ... 8 8 7]\n",
      "0.7472833333333333\n",
      "Iteration:  170\n",
      "[4 7 4 ... 8 8 7] [2 9 6 ... 8 8 7]\n",
      "0.7461\n",
      "Iteration:  180\n",
      "[4 7 4 ... 8 8 7] [2 9 6 ... 8 8 7]\n",
      "0.7554\n",
      "Iteration:  190\n",
      "[4 7 4 ... 8 8 7] [2 9 6 ... 8 8 7]\n",
      "0.7633666666666666\n",
      "Iteration:  200\n",
      "[4 7 4 ... 8 8 7] [2 9 6 ... 8 8 7]\n",
      "0.76375\n",
      "Iteration:  210\n",
      "[4 7 4 ... 8 8 7] [2 9 6 ... 8 8 7]\n",
      "0.7636333333333334\n",
      "Iteration:  220\n",
      "[4 7 4 ... 8 8 7] [2 9 6 ... 8 8 7]\n",
      "0.7634166666666666\n",
      "Iteration:  230\n",
      "[6 7 6 ... 8 8 7] [2 9 6 ... 8 8 7]\n",
      "0.7654166666666666\n",
      "Iteration:  240\n",
      "[4 7 4 ... 8 8 7] [2 9 6 ... 8 8 7]\n",
      "0.7551166666666667\n"
     ]
    }
   ],
   "source": [
    "W1, b1, W2, b2 = gradient_descent(X_train, Y_train, 0.005, 250)"
   ]
  },
  {
   "cell_type": "code",
   "execution_count": 143,
   "id": "44408ba9",
   "metadata": {},
   "outputs": [
    {
     "name": "stdout",
     "output_type": "stream",
     "text": [
      "[3 1 4 ... 4 2 3] [3 1 4 ... 4 8 4]\n",
      "Val Accuracy 0.766\n",
      "[1 0 4 ... 1 0 3] [1 0 6 ... 1 0 3]\n",
      "Test Accuracy 0.7672\n"
     ]
    }
   ],
   "source": [
    "def make_predictions(X, W1, b1, W2, b2):\n",
    "    _, _, _, A2 = forward_prop(W1, b1, W2, b2, X)\n",
    "    predictions = get_predictions(A2)\n",
    "    return predictions\n",
    "\n",
    "val_predictions = make_predictions(X_val, W1, b1, W2, b2)\n",
    "print(\"Val Accuracy\", get_accuracy(val_predictions, Y_val))\n",
    "\n",
    "test_predictions = make_predictions(X_test, W1, b1, W2, b2)\n",
    "print(\"Test Accuracy\",get_accuracy(test_predictions, Y_test))"
   ]
  },
  {
   "cell_type": "code",
   "execution_count": null,
   "id": "1a385039",
   "metadata": {},
   "outputs": [],
   "source": []
  }
 ],
 "metadata": {
  "kernelspec": {
   "display_name": "Python 3 (ipykernel)",
   "language": "python",
   "name": "python3"
  },
  "language_info": {
   "codemirror_mode": {
    "name": "ipython",
    "version": 3
   },
   "file_extension": ".py",
   "mimetype": "text/x-python",
   "name": "python",
   "nbconvert_exporter": "python",
   "pygments_lexer": "ipython3",
   "version": "3.11.5"
  }
 },
 "nbformat": 4,
 "nbformat_minor": 5
}
